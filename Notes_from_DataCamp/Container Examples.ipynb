{
 "cells": [
  {
   "cell_type": "markdown",
   "metadata": {},
   "source": [
    "### Enumerate\n",
    "#### Don't forget about enumerate"
   ]
  },
  {
   "cell_type": "code",
   "execution_count": null,
   "metadata": {},
   "outputs": [],
   "source": [
    "# Pair up the girl and boy names: pairs\n",
    "pairs = zip(girl_names,boy_names)\n",
    "\n",
    "# Iterate over pairs\n",
    "for idx, pair in enumerate(pairs):\n",
    "    # Unpack pair: girl_name, boy_name\n",
    "    girl_name, boy_name = pair\n",
    "    # Print the rank and names associated with each rank\n",
    "    print('Rank {}: {} and {}'.format(idx, girl_name, boy_name))"
   ]
  },
  {
   "cell_type": "markdown",
   "metadata": {},
   "source": [
    "### Sets\n",
    "#### Unique, unordered, mutable, good for comparisons using union, intersection, and difference"
   ]
  },
  {
   "cell_type": "code",
   "execution_count": null,
   "metadata": {},
   "outputs": [],
   "source": [
    "# Create the empty set: baby_names_2011\n",
    "baby_names_2011 = set()\n",
    "\n",
    "# Loop over records and add the names from 2011 to the baby_names_2011 set\n",
    "for row in records:\n",
    "    # Check if the first column is '2011'\n",
    "    if row[0] == '2011':\n",
    "        # Add the fourth column to the set\n",
    "        baby_names_2011.add(row[3])\n",
    "\n",
    "# Find the difference between 2011 and 2014: differences\n",
    "differences = baby_names_2011.difference(baby_names_2014)\n",
    "\n",
    "# Print the differences\n",
    "print(differences)"
   ]
  },
  {
   "cell_type": "markdown",
   "metadata": {},
   "source": [
    "### Dictionary\n",
    "#### Don't forget to call .items() on dictionary when looping"
   ]
  },
  {
   "cell_type": "code",
   "execution_count": null,
   "metadata": {},
   "outputs": [],
   "source": [
    "# Create an empty dictionary: names_by_rank\n",
    "names_by_rank = {}\n",
    "\n",
    "# Loop over the girl names\n",
    "for rank, name in female_baby_names_2012.items():\n",
    "    # Add each name to the names_by_rank dictionary using rank as the key\n",
    "    names_by_rank[rank] = name\n",
    "    \n",
    "# Sort the names_by_rank dict by rank in descending order and slice the first 10 items\n",
    "for rank in sorted(names_by_rank, reverse=True)[:10]:\n",
    "    # Print each item\n",
    "    print(names_by_rank[rank])   "
   ]
  },
  {
   "cell_type": "code",
   "execution_count": null,
   "metadata": {},
   "outputs": [],
   "source": [
    "# Print a list of keys from the boy_names dictionary\n",
    "print(boy_names.keys())\n",
    "\n",
    "# Print a list of keys from the boy_names dictionary for the year 2013\n",
    "print(boy_names[2013].keys())\n",
    "\n",
    "# Loop over the dictionary\n",
    "for year in boy_names:\n",
    "    # Safely print the year and the third ranked name or 'Unknown'\n",
    "    print(year, boy_names[year].get(3, 'Unknown'))"
   ]
  },
  {
   "cell_type": "code",
   "execution_count": null,
   "metadata": {},
   "outputs": [],
   "source": [
    "# Assign the names_2011 dictionary as the value to the 2011 key of boy_names\n",
    "boy_names[2011] = names_2011\n",
    "\n",
    "# Update the 2012 key in the boy_names dictionary\n",
    "boy_names[2012].update([(1,'Casey'),(2,'Aiden')])\n",
    "\n",
    "# Loop over the years in the boy_names dictionary \n",
    "for year in boy_names:\n",
    "    # Sort the data for each year by descending rank and get the lowest one\n",
    "    lowest_ranked =  sorted(boy_names[year], reverse=True)[0]\n",
    "    # Safely print the year and the least popular name or 'Not Available'\n",
    "    print(year, boy_names[year].get(lowest_ranked,'Not Available'))"
   ]
  },
  {
   "cell_type": "markdown",
   "metadata": {},
   "source": [
    "### CSV\n",
    "#### Can read straight into a dictionary...did not know that"
   ]
  },
  {
   "cell_type": "code",
   "execution_count": null,
   "metadata": {},
   "outputs": [],
   "source": [
    "# Import the python CSV module\n",
    "import csv\n",
    "\n",
    "# Create a python file object in read mode for the `baby_names.csv` file: csvfile\n",
    "csvfile = open('baby_names.csv','r')\n",
    "\n",
    "# Loop over a DictReader on the file\n",
    "for row in csv.DictReader(csvfile):\n",
    "    # Print each row \n",
    "    print(row)\n",
    "    # Add the rank and name to the dictionary: baby_names\n",
    "    baby_names[row['RANK']] = row['NAME']\n",
    "\n",
    "# Print the dictionary keys\n",
    "print(baby_names.keys())"
   ]
  },
  {
   "cell_type": "markdown",
   "metadata": {},
   "source": [
    "### Counter\n",
    "#### builti in collections to help with frequency analysis"
   ]
  },
  {
   "cell_type": "code",
   "execution_count": null,
   "metadata": {},
   "outputs": [],
   "source": [
    "# Import the Counter object\n",
    "from collections import Counter\n",
    "\n",
    "# Print the first ten items from the stations list\n",
    "print(stations[:10])\n",
    "\n",
    "# Create a Counter of the stations list: station_count\n",
    "station_count = Counter(stations)\n",
    "\n",
    "# Print the station_count\n",
    "print(station_count)"
   ]
  },
  {
   "cell_type": "code",
   "execution_count": null,
   "metadata": {},
   "outputs": [],
   "source": [
    "# Import the Counter object\n",
    "from collections import Counter\n",
    "\n",
    "# Create a Counter of the stations list: station_count\n",
    "station_count = Counter(stations)\n",
    "\n",
    "# Find the 5 most common elements\n",
    "print(station_count.most_common(5))"
   ]
  },
  {
   "cell_type": "markdown",
   "metadata": {},
   "source": [
    "### Defaultdict"
   ]
  },
  {
   "cell_type": "code",
   "execution_count": null,
   "metadata": {},
   "outputs": [],
   "source": [
    "# Create an empty dictionary: ridership\n",
    "ridership = {}\n",
    "\n",
    "# Iterate over the entries\n",
    "for date, stop, riders in entries:\n",
    "    # Check to see if date is already in the ridership dictionary\n",
    "    if date not in ridership:\n",
    "        # Create an empty list for any missing date\n",
    "        ridership[date] = []\n",
    "    # Append the stop and riders as a tuple to the date keys list\n",
    "    ridership[date].append((stop,riders))\n",
    "    \n",
    "# Print the ridership for '03/09/2016'\n",
    "print(ridership['03/09/2016'])"
   ]
  },
  {
   "cell_type": "markdown",
   "metadata": {},
   "source": [
    "### OrderedDict"
   ]
  },
  {
   "cell_type": "code",
   "execution_count": null,
   "metadata": {},
   "outputs": [],
   "source": [
    "# Import OrderedDict from collections\n",
    "from collections import OrderedDict\n",
    "\n",
    "# Create an OrderedDict called: ridership_date\n",
    "ridership_date = OrderedDict()\n",
    "\n",
    "# Iterate over the entries\n",
    "for date, riders in entries:\n",
    "    # If a key does not exist in ridership_date, set it to 0\n",
    "    if  date not in ridership_date:\n",
    "        ridership_date[date] = 0\n",
    "        \n",
    "    # Add riders to the date key in ridership_date\n",
    "    ridership_date[date] += riders\n",
    "    \n",
    "# Print the first 31 records\n",
    "print(list(ridership_date.items())[:31])"
   ]
  },
  {
   "cell_type": "code",
   "execution_count": null,
   "metadata": {},
   "outputs": [],
   "source": [
    "# Print the first key in ridership_date\n",
    "print(list(ridership_date.keys())[0])\n",
    "\n",
    "# Pop the first item from ridership_date and print it\n",
    "print(ridership_date.popitem())\n",
    "\n",
    "# Print the last key in ridership_date\n",
    "print(list(ridership_date.keys())[-1])\n",
    "\n",
    "# Pop the last item from ridership_date and print it\n",
    "print(ridership_date.popitem(last=False))"
   ]
  }
 ],
 "metadata": {
  "kernelspec": {
   "display_name": "Python 3",
   "language": "python",
   "name": "python3"
  },
  "language_info": {
   "codemirror_mode": {
    "name": "ipython",
    "version": 3
   },
   "file_extension": ".py",
   "mimetype": "text/x-python",
   "name": "python",
   "nbconvert_exporter": "python",
   "pygments_lexer": "ipython3",
   "version": "3.7.6"
  }
 },
 "nbformat": 4,
 "nbformat_minor": 4
}
