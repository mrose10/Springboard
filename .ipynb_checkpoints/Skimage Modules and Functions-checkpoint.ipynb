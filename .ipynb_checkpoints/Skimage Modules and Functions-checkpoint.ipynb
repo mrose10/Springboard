{
 "cells": [
  {
   "cell_type": "markdown",
   "metadata": {},
   "source": [
    "## Code from Datacamp Image Processing\n",
    "#### Example code to remember"
   ]
  },
  {
   "cell_type": "code",
   "execution_count": null,
   "metadata": {},
   "outputs": [],
   "source": [
    "from skimage import color\n",
    "\n",
    "grayscale = color.rgb2gray(original)\n",
    "\n",
    "def show_image(image, title='Image', cmap_type='gray'):\n",
    "    plt.imshow(image,cmap=cmap_type)\n",
    "    plt.title(title)\n",
    "    plt.axis('off')\n",
    "    plt.show()\n",
    "    \n",
    "# Use numpy to flip    \n",
    "import numpy as np\n",
    "\n",
    "# Flip the image\n",
    "vertically_flipped = np.flipud(original)\n",
    "horizontally_flipped = np.fliplr(original)\n",
    "\n",
    "#Matplotlib has hist function\n",
    "plt.hist(original.ravel(), bines = 256) # unravel the image to a vector"
   ]
  },
  {
   "cell_type": "markdown",
   "metadata": {},
   "source": [
    "#### Filtering\n",
    "There are other options. Local options require a block size\n"
   ]
  },
  {
   "cell_type": "code",
   "execution_count": null,
   "metadata": {},
   "outputs": [],
   "source": [
    "from skimage.filters import try_all_threshold\n",
    "from skimage.filters import threshold_otsu\n",
    "\n",
    "# Get threshold values\n",
    "thresh = threshold_otsu(gray_image) #Otsu finds global optimum threshold\n",
    "\n",
    "# Apply threshold\n",
    "binary_global = gray_image > thresh"
   ]
  },
  {
   "cell_type": "markdown",
   "metadata": {},
   "source": [
    "#### Morphology and Edge Detection\n"
   ]
  },
  {
   "cell_type": "code",
   "execution_count": null,
   "metadata": {},
   "outputs": [],
   "source": [
    "# Dilation and erosion, binary_dilation and binary_erosion\n",
    "from skimage import morphology\n",
    "\n",
    "# Edge detection\n",
    "from skimage.filters import sobel\n",
    "\n",
    "#Gaussion smoothing\n",
    "from skimage.filtesr import gaussion\n",
    "\n",
    "#Need multichannel for colored images\n",
    "gaussian_image = gaussian(image, multichannel = True)"
   ]
  },
  {
   "cell_type": "markdown",
   "metadata": {},
   "source": [
    "#### Contrast and histogram equalization"
   ]
  },
  {
   "cell_type": "code",
   "execution_count": null,
   "metadata": {},
   "outputs": [],
   "source": [
    "from skimage import exposure\n",
    "\n",
    "#Histogram equalization\n",
    "image_eq = exposure.equalize_hist(image) \n",
    "\n",
    "#CLAHE\n",
    "image_adapteq = exposure.equalize_adapthist(image, clip_limit=0.03)"
   ]
  },
  {
   "cell_type": "code",
   "execution_count": null,
   "metadata": {},
   "outputs": [],
   "source": [
    "from skimage.util import random_noise\n",
    "\n",
    "from skimage.restoration import denoise_tv_chambolle, denoise_bilateral\n",
    "\n",
    "from skimage"
   ]
  }
 ],
 "metadata": {
  "kernelspec": {
   "display_name": "Python 3",
   "language": "python",
   "name": "python3"
  },
  "language_info": {
   "codemirror_mode": {
    "name": "ipython",
    "version": 3
   },
   "file_extension": ".py",
   "mimetype": "text/x-python",
   "name": "python",
   "nbconvert_exporter": "python",
   "pygments_lexer": "ipython3",
   "version": "3.7.6"
  }
 },
 "nbformat": 4,
 "nbformat_minor": 4
}
